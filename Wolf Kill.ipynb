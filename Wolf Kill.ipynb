{
 "cells": [
  {
   "cell_type": "code",
   "execution_count": 11,
   "metadata": {},
   "outputs": [],
   "source": [
    "import numpy as np"
   ]
  },
  {
   "cell_type": "code",
   "execution_count": 4,
   "metadata": {},
   "outputs": [],
   "source": [
    "\n",
    "# type\n",
    "A=1 # 民\n",
    "B=2 # 神\n",
    "L=3 # 狼\n",
    "Y=4 # 预言家\n",
    "S=5 # 守卫\n",
    "H=6 # 猎人（女巫视作猎人+狼人第一回合不能杀人）\n",
    "\n",
    "# status\n",
    "U = 0 # 没金水（Unknown)\n",
    "J = 1 # 金水"
   ]
  },
  {
   "cell_type": "code",
   "execution_count": 5,
   "metadata": {},
   "outputs": [],
   "source": [
    "# 狼人杀人\n",
    "def kill(people, mask, turn):\n",
    "    # 随机找一个人杀\n",
    "    idxs = np.where(people!=L)[0]\n",
    "    idx = np.random.choice(idxs)\n",
    "    \n",
    "    # 如果杀了守卫守的人，就摸了\n",
    "    if (turn%2==1 and people[idx]!=S) or (turn%2==0 and people[idx]!=Y):\n",
    "        \n",
    "        # 如果杀到了猎人/女巫，就加一个复仇的flag\n",
    "        flag_revenge = people[idx] == H\n",
    "        \n",
    "        # 随机杀一个人\n",
    "        people = np.concatenate([people[:idx], people[idx+1:]])\n",
    "        mask = np.concatenate([mask[:idx], mask[idx+1:]])\n",
    "        \n",
    "        # 复仇：随机杀一个没金水的\n",
    "        if flag_revenge:\n",
    "            idxs = np.where(mask!=J)[0]\n",
    "            idx = np.random.choice(idxs)\n",
    "            people = np.concatenate([people[:idx], people[idx+1:]])\n",
    "            mask = np.concatenate([mask[:idx], mask[idx+1:]])    \n",
    "    return people, mask"
   ]
  },
  {
   "cell_type": "code",
   "execution_count": 6,
   "metadata": {},
   "outputs": [],
   "source": [
    "# 票人\n",
    "# 没金水的抽奖杀一个\n",
    "def vote(people, mask):\n",
    "    idxs = np.where(mask!=J)[0]\n",
    "    idx = np.random.choice(idxs)\n",
    "    people = np.concatenate([people[:idx], people[idx+1:]])\n",
    "    mask = np.concatenate([mask[:idx], mask[idx+1:]])\n",
    "    return people, mask"
   ]
  },
  {
   "cell_type": "code",
   "execution_count": 7,
   "metadata": {},
   "outputs": [],
   "source": [
    "# 查人\n",
    "def check(people, mask):\n",
    "    # 抽个没金水不是自己的\n",
    "    idxs = np.where(np.logical_and(mask!=J, people!=Y))[0]\n",
    "    idx = np.random.choice(idxs)\n",
    "    \n",
    "    # 查了狼直接秒了，这一天没有投票\n",
    "    if people[idx] == L:\n",
    "        people = np.concatenate([people[:idx], people[idx+1:]])\n",
    "        mask = np.concatenate([mask[:idx], mask[idx+1:]])\n",
    "        flag = True\n",
    "    # 反之，发一个金水并投票\n",
    "    else:\n",
    "        mask[idx] = J\n",
    "        flag = False\n",
    "    return people, flag, mask"
   ]
  },
  {
   "cell_type": "code",
   "execution_count": 8,
   "metadata": {},
   "outputs": [],
   "source": [
    "# 检查好人是不是死光了（屠边）\n",
    "def min_all_killed(people):\n",
    "    return A not in people or (H not in people and Y not in people and S not in people)"
   ]
  },
  {
   "cell_type": "code",
   "execution_count": 9,
   "metadata": {},
   "outputs": [],
   "source": [
    "# monte carlo\n",
    "import tqdm"
   ]
  },
  {
   "cell_type": "code",
   "execution_count": 12,
   "metadata": {},
   "outputs": [
    {
     "name": "stderr",
     "output_type": "stream",
     "text": [
      "100%|████████████████████████████████████████████████████████████████| 100000/100000 [00:31<00:00, 3184.14it/s]\n"
     ]
    },
    {
     "data": {
      "text/plain": [
       "(59709, 40291)"
      ]
     },
     "execution_count": 12,
     "metadata": {},
     "output_type": "execute_result"
    }
   ],
   "source": [
    "cnt_L = 0\n",
    "cnt_M = 0\n",
    "for i in tqdm.tqdm(range(100000)):\n",
    "    # 四民四神四狼\n",
    "    people = np.array([A,A,A,A,H,H,S,Y,L,L,L,L])\n",
    "    # 开始啥也不知道\n",
    "    mask   = np.array([U,U,U,U,U,U,U,U,U,U,U,U])\n",
    "    \n",
    "    for turn in range(1, 100):\n",
    "        if min_all_killed(people):\n",
    "            cnt_L += 1\n",
    "            break\n",
    "        if L not in people:\n",
    "            cnt_M += 1\n",
    "            break\n",
    "        # 第一个回合不死人\n",
    "        if turn > 1:\n",
    "            people, mask = kill(people, mask, turn)\n",
    "        \n",
    "        if min_all_killed(people):\n",
    "            cnt_L += 1\n",
    "            break\n",
    "        if L not in people:\n",
    "            cnt_M += 1\n",
    "            break\n",
    "        \n",
    "        successfully_checked = False\n",
    "        if Y in people:\n",
    "            people, successfully_checked, mask = check(people, mask)\n",
    "            if min_all_killed(people):\n",
    "                cnt_L += 1\n",
    "                break\n",
    "            if L not in people:\n",
    "                cnt_M += 1\n",
    "                break\n",
    "        if not successfully_checked:\n",
    "            people, mask = vote(people, mask)\n",
    "cnt_L, cnt_M"
   ]
  },
  {
   "cell_type": "code",
   "execution_count": null,
   "metadata": {},
   "outputs": [],
   "source": []
  },
  {
   "cell_type": "code",
   "execution_count": null,
   "metadata": {},
   "outputs": [],
   "source": []
  }
 ],
 "metadata": {
  "kernelspec": {
   "display_name": "Python 3",
   "language": "python",
   "name": "python3"
  },
  "language_info": {
   "codemirror_mode": {
    "name": "ipython",
    "version": 3
   },
   "file_extension": ".py",
   "mimetype": "text/x-python",
   "name": "python",
   "nbconvert_exporter": "python",
   "pygments_lexer": "ipython3",
   "version": "3.6.6"
  }
 },
 "nbformat": 4,
 "nbformat_minor": 4
}
