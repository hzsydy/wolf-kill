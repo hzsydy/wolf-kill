{
 "cells": [
  {
   "cell_type": "code",
   "execution_count": 1,
   "metadata": {},
   "outputs": [],
   "source": [
    "import numpy as np"
   ]
  },
  {
   "cell_type": "code",
   "execution_count": 2,
   "metadata": {},
   "outputs": [],
   "source": [
    "\n",
    "# type\n",
    "A=1 # shen\n",
    "B=2 # min\n",
    "L=3 # lang\n",
    "Y=4 # yu yan jia\n",
    "S=5 # shou wei\n",
    "H=6 # lie ren\n",
    "\n",
    "# status\n",
    "U = 0 # unknown\n",
    "J = 1 # jin shui"
   ]
  },
  {
   "cell_type": "code",
   "execution_count": 3,
   "metadata": {},
   "outputs": [],
   "source": [
    "def kill(people, mask, turn):\n",
    "    idxs = np.where(people!=L)[0]\n",
    "    idx = np.random.choice(idxs)\n",
    "    if (turn%2==1 and people[idx]!=S) or (turn%2==0 and people[idx]!=Y):\n",
    "        flag_revenge = people[idx] == H\n",
    "        \n",
    "        people = np.concatenate([people[:idx], people[idx+1:]])\n",
    "        mask = np.concatenate([mask[:idx], mask[idx+1:]])\n",
    "        \n",
    "        if flag_revenge:\n",
    "            idxs = np.where(mask!=J)[0]\n",
    "            idx = np.random.choice(idxs)\n",
    "            people = np.concatenate([people[:idx], people[idx+1:]])\n",
    "            mask = np.concatenate([mask[:idx], mask[idx+1:]])    \n",
    "    return people, mask"
   ]
  },
  {
   "cell_type": "code",
   "execution_count": 4,
   "metadata": {},
   "outputs": [],
   "source": [
    "def vote(people, mask):\n",
    "    idxs = np.where(mask!=J)[0]\n",
    "    idx = np.random.choice(idxs)\n",
    "    people = np.concatenate([people[:idx], people[idx+1:]])\n",
    "    mask = np.concatenate([mask[:idx], mask[idx+1:]])\n",
    "    return people, mask"
   ]
  },
  {
   "cell_type": "code",
   "execution_count": 10,
   "metadata": {},
   "outputs": [],
   "source": [
    "def check(people, mask):\n",
    "    idxs = np.where(np.logical_and(mask!=J, people!=Y))[0]\n",
    "    idx = np.random.choice(idxs)\n",
    "    if people[idx] == L:\n",
    "        people = np.concatenate([people[:idx], people[idx+1:]])\n",
    "        mask = np.concatenate([mask[:idx], mask[idx+1:]])\n",
    "        flag = True\n",
    "    else:\n",
    "        mask[idx] = J\n",
    "        flag = False\n",
    "    return people, flag, mask"
   ]
  },
  {
   "cell_type": "code",
   "execution_count": 6,
   "metadata": {},
   "outputs": [],
   "source": [
    "def min_all_killed(people):\n",
    "    return A not in people or (H not in people and Y not in people and S not in people)"
   ]
  },
  {
   "cell_type": "code",
   "execution_count": 7,
   "metadata": {},
   "outputs": [],
   "source": [
    "# monte carlo\n",
    "import tqdm"
   ]
  },
  {
   "cell_type": "code",
   "execution_count": 13,
   "metadata": {},
   "outputs": [
    {
     "name": "stderr",
     "output_type": "stream",
     "text": [
      "100%|████████████████████████████████████████████████████████████████| 100000/100000 [00:30<00:00, 3266.96it/s]\n"
     ]
    },
    {
     "data": {
      "text/plain": [
       "(59460, 40540)"
      ]
     },
     "execution_count": 13,
     "metadata": {},
     "output_type": "execute_result"
    }
   ],
   "source": [
    "cnt_L = 0\n",
    "cnt_M = 0\n",
    "for i in tqdm.tqdm(range(100000)):\n",
    "    #people = np.array([A,A,A,A,B,B,B,B,L,L,L,L])\n",
    "    people = np.array([A,A,A,A,H,H,S,Y,L,L,L,L])\n",
    "    mask   = np.array([U,U,U,U,U,U,U,U,U,U,U,U])\n",
    "    \n",
    "    for turn in range(1, 100):\n",
    "        if min_all_killed(people):\n",
    "            cnt_L += 1\n",
    "            break\n",
    "        if L not in people:\n",
    "            cnt_M += 1\n",
    "            break\n",
    "        if turn > 1:\n",
    "            people, mask = kill(people, mask, turn)\n",
    "        \n",
    "        if min_all_killed(people):\n",
    "            cnt_L += 1\n",
    "            break\n",
    "        if L not in people:\n",
    "            cnt_M += 1\n",
    "            break\n",
    "        \n",
    "        successfully_checked = False\n",
    "        if Y in people:\n",
    "            people, successfully_checked, mask = check(people, mask)\n",
    "            if min_all_killed(people):\n",
    "                cnt_L += 1\n",
    "                break\n",
    "            if L not in people:\n",
    "                cnt_M += 1\n",
    "                break\n",
    "        if not successfully_checked:\n",
    "            people, mask = vote(people, mask)\n",
    "cnt_L, cnt_M"
   ]
  },
  {
   "cell_type": "code",
   "execution_count": null,
   "metadata": {},
   "outputs": [],
   "source": []
  },
  {
   "cell_type": "code",
   "execution_count": null,
   "metadata": {},
   "outputs": [],
   "source": []
  }
 ],
 "metadata": {
  "kernelspec": {
   "display_name": "Python 3",
   "language": "python",
   "name": "python3"
  },
  "language_info": {
   "codemirror_mode": {
    "name": "ipython",
    "version": 3
   },
   "file_extension": ".py",
   "mimetype": "text/x-python",
   "name": "python",
   "nbconvert_exporter": "python",
   "pygments_lexer": "ipython3",
   "version": "3.6.6"
  }
 },
 "nbformat": 4,
 "nbformat_minor": 4
}
